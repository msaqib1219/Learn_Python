{
  "nbformat": 4,
  "nbformat_minor": 0,
  "metadata": {
    "colab": {
      "provenance": [],
      "authorship_tag": "ABX9TyPJ/NVs6MskNvOGIEu6lK4Z",
      "include_colab_link": true
    },
    "kernelspec": {
      "name": "python3",
      "display_name": "Python 3"
    },
    "language_info": {
      "name": "python"
    }
  },
  "cells": [
    {
      "cell_type": "markdown",
      "metadata": {
        "id": "view-in-github",
        "colab_type": "text"
      },
      "source": [
        "<a href=\"https://colab.research.google.com/github/msaqib1219/Learn_Python/blob/main/bmi_calculator.ipynb\" target=\"_parent\"><img src=\"https://colab.research.google.com/assets/colab-badge.svg\" alt=\"Open In Colab\"/></a>"
      ]
    },
    {
      "cell_type": "code",
      "execution_count": 7,
      "metadata": {
        "colab": {
          "base_uri": "https://localhost:8080/"
        },
        "id": "rfT-TU9YQQSj",
        "outputId": "614b2b1b-9b88-422d-db0a-3542fbc060b8"
      },
      "outputs": [
        {
          "output_type": "stream",
          "name": "stdout",
          "text": [
            "Please enter your weight in kg\n",
            "50\n",
            "Please  enter your height in meters\n",
            "1.7\n",
            "Your BMI is: 17.301038062283737\n",
            "Under weight\n"
          ]
        }
      ],
      "source": [
        "# BMI calculator to check whether is over weight under weight or normal.\n",
        "print(\"Please enter your weight in kg\")\n",
        "weight: float = float(input())\n",
        "print(\"Please  enter your height in meters\")\n",
        "height: float = float(input())\n",
        "BMI: float = weight / (height * height)\n",
        "print(\"Your BMI is:\", BMI )\n",
        "if BMI <18.5:\n",
        "  print(\"Under weight\")\n",
        "elif BMI >=18.5 and BMI <=24.9:\n",
        "  print(\"Normal\")\n",
        "else:\n",
        "  print(\"Over Weight\")"
      ]
    }
  ]
}